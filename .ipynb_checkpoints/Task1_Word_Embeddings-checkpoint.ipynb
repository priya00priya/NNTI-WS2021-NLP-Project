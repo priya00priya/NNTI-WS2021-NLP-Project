{
 "cells": [
  {
   "cell_type": "markdown",
   "metadata": {
    "id": "_VZXi_KGi0UR"
   },
   "source": [
    "# Task 1: Word Embeddings (10 points)\n",
    "\n",
    "This notebook will guide you through all steps necessary to train a word2vec model (Detailed description in the PDF)."
   ]
  },
  {
   "cell_type": "markdown",
   "metadata": {
    "id": "48t-II1vkuau"
   },
   "source": [
    "## Imports\n",
    "\n",
    "This code block is reserved for your imports. \n",
    "\n",
    "You are free to use the following packages: \n",
    "\n",
    "(List of packages)"
   ]
  },
  {
   "cell_type": "code",
   "execution_count": 2,
   "metadata": {
    "id": "4kh6nh84-AOL"
   },
   "outputs": [
    {
     "name": "stderr",
     "output_type": "stream",
     "text": [
      "[nltk_data] Downloading package punkt to\n",
      "[nltk_data]     C:\\Users\\piyab\\AppData\\Roaming\\nltk_data...\n",
      "[nltk_data]   Package punkt is already up-to-date!\n",
      "[nltk_data] Downloading package stopwords to\n",
      "[nltk_data]     C:\\Users\\piyab\\AppData\\Roaming\\nltk_data...\n",
      "[nltk_data]   Package stopwords is already up-to-date!\n"
     ]
    }
   ],
   "source": [
    "# Imports\n",
    "from pandas import DataFrame\n",
    "import pandas as pd\n",
    "import numpy as np\n",
    "import os\n",
    "import re\n",
    "from sklearn.preprocessing import OneHotEncoder\n",
    "import nltk\n",
    "from nltk.tokenize import word_tokenize\n",
    "nltk.download('punkt')\n",
    "nltk.download('stopwords')\n",
    "import math\n",
    "import io"
   ]
  },
  {
   "cell_type": "markdown",
   "metadata": {
    "id": "NWmk3hVllEcU"
   },
   "source": [
    "# 1.1 Get the data (0.5 points)\n",
    "\n",
    "The Hindi portion HASOC corpus from [github.io](https://hasocfire.github.io/hasoc/2019/dataset.html) is already available in the repo, at data/hindi_hatespeech.tsv . Load it into a data structure of your choice. Then, split off a small part of the corpus as a development set (~100 data points).\n",
    "\n",
    "If you are using Colab the first two lines will let you upload folders or files from your local file system."
   ]
  },
  {
   "cell_type": "code",
   "execution_count": 4,
   "metadata": {
    "id": "XtI7DJ-0-AOP"
   },
   "outputs": [
    {
     "name": "stderr",
     "output_type": "stream",
     "text": [
      "C:\\Users\\piyab\\Anaconda3\\lib\\site-packages\\ipykernel_launcher.py:9: FutureWarning: from_csv is deprecated. Please use read_csv(...) instead. Note that some of the default arguments are different, so please refer to the documentation for from_csv when changing your function calls\n",
      "  if __name__ == '__main__':\n"
     ]
    }
   ],
   "source": [
    "#TODO: implement!\n",
    "\n",
    "#from google.colab import files\n",
    "#uploaded = files.upload()\n",
    "\n",
    "#Get the data\n",
    "#os.chdir(\"D:/Saarland/NN TI/NNTI_WS2021_Project\")\n",
    "\n",
    "df = DataFrame.from_csv(\"hindi_.tsv\", sep=\"\\t\")\n",
    "\n",
    "def split_data (df):\n",
    "    df = df[:20]\n",
    "    return df"
   ]
  },
  {
   "cell_type": "markdown",
   "metadata": {
    "id": "D-mSJ8nUlupB"
   },
   "source": [
    "## 1.2 Data preparation (0.5 + 0.5 points)\n",
    "\n",
    "* Prepare the data by removing everything that does not contain information. \n",
    "User names (starting with '@') and punctuation symbols clearly do not convey information, but we also want to get rid of so-called [stopwords](https://en.wikipedia.org/wiki/Stop_word), i. e. words that have little to no semantic content (and, but, yes, the...). Hindi stopwords can be found [here](https://github.com/stopwords-iso/stopwords-hi/blob/master/stopwords-hi.txt) Then, standardize the spelling by lowercasing all words.\n",
    "Do this for the development section of the corpus for now.\n",
    "\n",
    "* What about hashtags (starting with '#') and emojis? Should they be removed too? Justify your answer in the report, and explain how you accounted for this in your implementation."
   ]
  },
  {
   "cell_type": "code",
   "execution_count": 5,
   "metadata": {
    "id": "CHcNeyKi-AOQ"
   },
   "outputs": [],
   "source": [
    "#TODO: implement!\n",
    "\n",
    "\n",
    "\n",
    "def clean_data(sentence):\n",
    "\n",
    "    hindi_stopword_file = open('stopwords.txt', encoding=\"utf8\")\n",
    "    hindi_stopwords = []\n",
    "    for x in hindi_stopword_file:\n",
    "        hindi_stopwords.append(x.rstrip())\n",
    "    \n",
    "    text_tokens = word_tokenize(sentence)\n",
    "    special_words_list = ['#', '?', '!', ';', ',','&' ,'+' ,'<' ,'>' ,'^' ,'_' ,'`' ,'|' ,'~' ,'..', '…', '....', '', '   ', ' ',\n",
    "           ':', \"\\'\", '-', '=', '(', ')', '[', ']' , '{', '}','$','°', '¶' , '\"', '*', '@', '  ', '\\\\', '/', '.', '%', '।', '”']\n",
    "\n",
    "    sentence = \" \".join([text_word for text_word in text_tokens if text_word not in hindi_stopwords])\n",
    "    text_tokens = word_tokenize(sentence)\n",
    "    sentence = \" \".join([text_word for text_word in text_tokens if not re.search(r'[a-zA-Z0-9]', text_word) ])\n",
    "    \n",
    "    text_tokens = word_tokenize(sentence)\n",
    "    PATTERN = re.compile( #https://en.wikipedia.org/wiki/Emoji#Unicode_blocks\n",
    "    \"([\"\n",
    "    \"\\U0001F1E0-\\U0001F1FF\"  # flags \n",
    "    \"\\U0001F300-\\U0001F5FF\"  # symbols & pictographs\n",
    "    \"\\U0001F600-\\U0001F64F\"  # emoticons\n",
    "    \"\\U0001F680-\\U0001F6FF\"  # transport & map symbols\n",
    "    \"\\U0001F700-\\U0001F77F\"  # alchemical symbols\n",
    "    \"\\U0001F780-\\U0001F7FF\"  # Geometric Shapes Extended\n",
    "    \"\\U0001F800-\\U0001F8FF\"  # Supplemental Arrows-C\n",
    "    \"\\U0001F900-\\U0001F9FF\"  # Supplemental Symbols and Pictographs\n",
    "    \"\\U0001FA00-\\U0001FA6F\"  # Chess Symbols\n",
    "    \"\\U0001FA70-\\U0001FAFF\"  # Symbols and Pictographs Extended-A\n",
    "    \"\\U00002702-\\U000027B0\"  # Dingbats\n",
    "    \"])\"\n",
    "    )\n",
    "    \n",
    "    sentence = \" \".join([text_word for text_word in text_tokens if not re.search(PATTERN, text_word)])\n",
    "    \n",
    "    text_tokens = word_tokenize(sentence)\n",
    "\n",
    "    new_array = []\n",
    "    for text_word in text_tokens:\n",
    "        for word in special_words_list:\n",
    "            text_word = text_word.replace(word, \"\")\n",
    "        new_array.append(text_word)\n",
    "\n",
    "    sentence = \" \".join(item for item in new_array)\n",
    "    \n",
    "    return sentence\n",
    "\n",
    "def drop_empty_values(df):\n",
    "    \n",
    "    df['text'].replace('', np.nan, inplace=True)\n",
    "    df['text'].replace(r'^\\s+$', np.nan, regex=True)\n",
    "    \n",
    "    df = df.dropna(subset=['text'])\n",
    "    return df\n",
    "\n",
    "\n"
   ]
  },
  {
   "cell_type": "markdown",
   "metadata": {
    "id": "Je09nozLmmMm"
   },
   "source": [
    "## 1.3 Build the vocabulary (0.5 + 0.5 points)\n",
    "\n",
    "The input to the first layer of word2vec is an one-hot encoding of the current word. The output od the model is then compared to a numeric class label of the words within the size of the skip-gram window. Now\n",
    "\n",
    "* Compile a list of all words in the development section of your corpus and save it in a variable ```V```."
   ]
  },
  {
   "cell_type": "code",
   "execution_count": null,
   "metadata": {
    "id": "VpoGmTKx-AOQ"
   },
   "outputs": [],
   "source": [
    "#TODO: implement!\n",
    "def building_vocabulary(df):\n",
    "    \n",
    "    sentences = [] \n",
    "    v = [] #unique_words\n",
    "    frequency_of_words = {}\n",
    "    for line in df['text']:\n",
    "        words = [x for x in line.split()]\n",
    "        for word in words:\n",
    "            if word != ':':\n",
    "                \n",
    "                if word not in v:\n",
    "                    v.append(word)\n",
    "                    frequency_of_words[word] = 1 \n",
    "                else:\n",
    "                    frequency_of_words[word] = frequency_of_words[word] + 1\n",
    "        sentences.append(words)\n",
    "    v = sorted(v)  \n",
    "    return sentences,frequency_of_words , v"
   ]
  },
  {
   "cell_type": "markdown",
   "metadata": {
    "id": "WiaVglVNoENY"
   },
   "source": [
    "* Then, write a function ```word_to_one_hot``` that returns a one-hot encoding of an arbitrary word in the vocabulary. The size of the one-hot encoding should be ```len(v)```."
   ]
  },
  {
   "cell_type": "code",
   "execution_count": null,
   "metadata": {
    "id": "yqPNw6IT-AOQ"
   },
   "outputs": [],
   "source": [
    "#TODO: implement!\n",
    "def word_to_one_hot(word):\n",
    "    try:\n",
    "        ohe = OneHotEncoder(sparse=False)\n",
    "        ohe.fit(word)\n",
    "        ohe_word = ohe.transform(word)\n",
    "        return ohe_word\n",
    "    except ValueError:  #Array_With_zero_sample\n",
    "        pass"
   ]
  },
  {
   "cell_type": "markdown",
   "metadata": {
    "id": "gKD8zBlxVclh"
   },
   "source": [
    "## 1.4 Subsampling (0.5 points)\n",
    "\n",
    "The probability to keep a word in a context is given by:\n",
    "\n",
    "$P_{keep}(w_i) = \\Big(\\sqrt{\\frac{z(w_i)}{0.001}}+1\\Big) \\cdot \\frac{0.001}{z(w_i)}$\n",
    "\n",
    "Where $z(w_i)$ is the relative frequency of the word $w_i$ in the corpus. Now,\n",
    "* Calculate word frequencies\n",
    "* Define a function ```sampling_prob``` that takes a word (string) as input and returns the probabiliy to **keep** the word in a context."
   ]
  },
  {
   "cell_type": "code",
   "execution_count": null,
   "metadata": {
    "id": "Mj4sDOVMMr0b"
   },
   "outputs": [],
   "source": [
    "#TODO: implement!\n",
    "def sampling_prob(word):\n",
    "    probability = (math.sqrt(word/0.001) + 1 ) * (0.001/word)\n",
    "    return probability\n"
   ]
  },
  {
   "cell_type": "markdown",
   "metadata": {
    "id": "kxV1P90zplxu"
   },
   "source": [
    "# 1.5 Skip-Grams (1 point)\n",
    "\n",
    "Now that you have the vocabulary and one-hot encodings at hand, you can start to do the actual work. The skip gram model requires training data of the shape ```(current_word, context)```, with ```context``` being the words before and/or after ```current_word``` within ```window_size```. \n",
    "\n",
    "* Have closer look on the original paper. If you feel to understand how skip-gram works, implement a function ```get_target_context``` that takes a sentence as input and [yield](https://docs.python.org/3.9/reference/simple_stmts.html#the-yield-statement)s a ```(current_word, context)```.\n",
    "\n",
    "* Use your ```sampling_prob``` function to drop words from contexts as you sample them. "
   ]
  },
  {
   "cell_type": "code",
   "execution_count": null,
   "metadata": {
    "id": "r8CCTpVy-AOR"
   },
   "outputs": [],
   "source": [
    "#TODO: implement!\n",
    "\n",
    "def get_target_context(sentences,w2v_model,vocab_one_hot,vocab_index,subsampling_probability):\n",
    "    center_word_list = []\n",
    "    context_word_list = []\n",
    "    for sentence in sentences:\n",
    "        for i in range(len(sentence)): \n",
    "            center_word = vocab_one_hot[sentence[i]] #vocab_one_hot\n",
    "            context = [0 for x in range(len(center_word))]\n",
    "            \n",
    "            for j in range(i- w2v_model.window_size,i + w2v_model.window_size):\n",
    "                if i!=j and j>=0 and j<len(sentence):\n",
    "                    # increase sampling chances of domain specific words in context\n",
    "                    #if subsampling_probability[sentence[i]] > np.random.random() :\n",
    "                    context[vocab_index[sentence[j]]] += 1 #vocab_index\n",
    "            center_word_list.append(center_word)\n",
    "            context_word_list.append(context)\n",
    "    return center_word_list, context_word_list"
   ]
  },
  {
   "cell_type": "markdown",
   "metadata": {
    "id": "gfEFgtkmuDjL"
   },
   "source": [
    "# 1.6 Hyperparameters (0.5 points)\n",
    "\n",
    "According to the word2vec paper, what would be a good choice for the following hyperparameters? \n",
    "\n",
    "* Embedding dimension\n",
    "* Window size\n",
    "\n",
    "Initialize them in a dictionary or as independent variables in the code block below. "
   ]
  },
  {
   "cell_type": "code",
   "execution_count": null,
   "metadata": {
    "id": "d7xSKuFJcYoD"
   },
   "outputs": [],
   "source": [
    "# Set hyperparameters\n",
    "window_size = 2\n",
    "embedding_size = 100\n",
    "\n",
    "# More hyperparameters\n",
    "learning_rate = 0.05\n",
    "epochs = 100"
   ]
  },
  {
   "cell_type": "markdown",
   "metadata": {
    "id": "xiM2zq-YunPx"
   },
   "source": [
    "# 1.7 Pytorch Module (0.5 + 0.5 + 0.5 points)\n",
    "\n",
    "Pytorch provides a wrapper for your fancy and super-complex models: [torch.nn.Module](https://pytorch.org/docs/stable/generated/torch.nn.Module.html). The code block below contains a skeleton for such a wrapper. Now,\n",
    "\n",
    "* Initialize the two weight matrices of word2vec as fields of the class.\n",
    "\n",
    "* Override the ```forward``` method of this class. It should take a one-hot encoding as input, perform the matrix multiplications, and finally apply a log softmax on the output layer.\n",
    "\n",
    "* Initialize the model and save its weights in a variable. The Pytorch documentation will tell you how to do that."
   ]
  },
  {
   "cell_type": "code",
   "execution_count": null,
   "metadata": {
    "colab": {
     "base_uri": "https://localhost:8080/"
    },
    "id": "D9sGNytYhwxS",
    "outputId": "41645b64-e4ed-4e6a-e10f-74cb39b92230"
   },
   "outputs": [
    {
     "name": "stdout",
     "output_type": "stream",
     "text": [
      "Word2Vec(\n",
      "  (input): Linear(in_features=534, out_features=300, bias=False)\n",
      "  (output): Linear(in_features=300, out_features=534, bias=False)\n",
      ")\n"
     ]
    }
   ],
   "source": [
    "# Create model \n",
    "\n",
    "def softmax(x):\n",
    "    e_x = np.exp(x - np.max(x))\n",
    "    return e_x / e_x.sum(axis=0)\n",
    "\n",
    "class Word2Vec(object):\n",
    "    def __init__(self):\n",
    "        self.embedding_size = 100\n",
    "        self.window_size = 2 # sentences weren't too long, so\n",
    "        self.learning_rate = 0.05\n",
    "        self.epochs = 100\n",
    "        \n",
    "    def initialize(self,Vocab_length):\n",
    "        self.Vocab_len = Vocab_length\n",
    "        self.W = np.random.uniform(-0.8, 0.8, (self.Vocab_len, self.embedding_size))\n",
    "        self.W1 = np.random.uniform(-0.8, 0.8, (self.embedding_size, self.Vocab_len))\n",
    "\n",
    "    def feed_forward(self,X):\n",
    "        self.h = np.dot(self.W.T,X).reshape(self.embedding_size,1)\n",
    "        self.u = np.dot(self.W1.T,self.h)\n",
    "\n",
    "        self.y = softmax(self.u)\n",
    "        return self.u\n",
    "        \n",
    "    def backpropagate(self,x,t):\n",
    "        e = self.y - np.asarray(t).reshape(self.Vocab_len,1)\n",
    "        dLdW1 = np.dot(self.h,e.T)\n",
    "        \n",
    "        X = np.array(x).reshape(self.Vocab_len,1)\n",
    "        dLdW = np.dot(X, np.dot(self.W1,e).T)\n",
    "        \n",
    "        self.W1 = self.W1 - self.learning_rate*dLdW1\n",
    "        self.W = self.W - self.learning_rate*dLdW\n",
    "        return self.W , self.W1"
   ]
  },
  {
   "cell_type": "markdown",
   "metadata": {
    "id": "XefIDMMHv5zJ"
   },
   "source": [
    "# 1.8 Loss function and optimizer (0.5 points)\n",
    "\n",
    "Initialize variables with [optimizer](https://pytorch.org/docs/stable/optim.html#module-torch.optim) and loss function. You can take what is used in the word2vec paper, but you can use alternative optimizers/loss functions if you explain your choice in the report."
   ]
  },
  {
   "cell_type": "code",
   "execution_count": null,
   "metadata": {
    "id": "V9-Ino-e29w3"
   },
   "outputs": [],
   "source": [
    "# Define optimizer and loss\n",
    "#optimizer = torch.optim.Adam(w2v_model.parameters(), lr=0.01)\n",
    "#criterion = nn.CrossEntropyLoss() "
   ]
  },
  {
   "cell_type": "markdown",
   "metadata": {
    "id": "ckTfK78Ew8wI"
   },
   "source": [
    "# 1.9 Training the model (3 points)\n",
    "\n",
    "As everything is prepared, implement a training loop that performs several passes of the data set through the model. You are free to do this as you please, but your code should:\n",
    "\n",
    "* Load the weights saved in 1.6 at the start of every execution of the code block\n",
    "* Print the accumulated loss at least after every epoch (the accumulate loss should be reset after every epoch)\n",
    "* Define a criterion for the training procedure to terminate if a certain loss value is reached. You can find the threshold by observing the loss for the development set.\n",
    "\n",
    "You can play around with the number of epochs and the learning rate."
   ]
  },
  {
   "cell_type": "code",
   "execution_count": null,
   "metadata": {
    "id": "LbMGD5L0mLDx"
   },
   "outputs": [],
   "source": [
    "# Define train procedure\n",
    "\n",
    "# load initial weights\n",
    "\n",
    "def train(w2v_model,X_train,Y_train, Vocab_len):\n",
    "    #loss_list = []\n",
    "    print(\"Training started\")\n",
    "    for x in range(1, w2v_model.epochs):        \n",
    "        loss = 0\n",
    "        for j in range(len(X_train)):\n",
    "            u = w2v_model.feed_forward(X_train[j])\n",
    "            \n",
    "            W, W1 = w2v_model.backpropagate( X_train[j], Y_train[j])\n",
    "            \n",
    "            loss += -np.sum([u[word.index(1)] for word in Y_train]) + len(Y_train) * np.log(np.sum(np.exp(u)))\n",
    "        #print(\"epoch \",x, \" loss = \", loss)\n",
    "        #loss_list.append(loss)\n",
    "    #print(loss_list)\n",
    "    print(\"Training finished\")\n",
    "    return W, W1\n",
    "\n",
    "\n",
    "\n"
   ]
  },
  {
   "cell_type": "markdown",
   "metadata": {
    "id": "BgQkaYstyj0Q"
   },
   "source": [
    "# 1.10 Train on the full dataset (0.5 points)\n",
    "\n",
    "Now, go back to 1.1 and remove the restriction on the number of sentences in your corpus. Then, reexecute code blocks 1.2, 1.3 and 1.6 (or those relevant if you created additional ones). \n",
    "\n",
    "* Then, retrain your model on the complete dataset.\n",
    "\n",
    "* Now, the input weights of the model contain the desired word embeddings! Save them together with the corresponding vocabulary items (Pytorch provides a nice [functionality](https://pytorch.org/tutorials/beginner/saving_loading_models.html) for this)."
   ]
  },
  {
   "cell_type": "code",
   "execution_count": null,
   "metadata": {
    "id": "4x8hQP_bg4_g"
   },
   "outputs": [],
   "source": [
    "#df = split_data(df)  \n",
    "    \n",
    "# converting upper case letters to lowercase\n",
    "df['text'] = df['text'].str.lower()\n",
    "\n",
    "# data preprocessing\n",
    "df['text'] = df['text'].map(lambda x: clean_data(x))\n",
    "# drop empty values \n",
    "df = drop_empty_values(df)\n",
    "\n",
    "#building vocabulary and Calculating word frequencies\n",
    "sentences, frequency_of_words , v = building_vocabulary(df)\n",
    "\n",
    "subsampling_probability = {}\n",
    "#subsampling\n",
    "for words in v:\n",
    "    freq_word = frequency_of_words[words]\n",
    "    subsampling_probability[words] = sampling_prob(freq_word)   \n",
    "\n",
    "# One hot encoding\n",
    "result_one_hot_encoding = word_to_one_hot(np.reshape(v,(-1,1)))\n",
    "vocab_index = {}\n",
    "vocab_one_hot = {}\n",
    "for i in range(len(v)):\n",
    "    vocab_index[v[i]] = i\n",
    "    vocab_one_hot[v[i]] = result_one_hot_encoding[i]\n",
    "\n",
    "    \n",
    "#Creating  object of the Word2Vec class       \n",
    "w2v_model = Word2Vec()\n",
    "\n",
    "is_untrained = True # true for the new training of the model\n",
    "\n",
    "if is_untrained: # checks the flag\n",
    "  w2v_model.initialize(len(v))\n",
    "\n",
    "#w2v_model = w2v_model.to(device)\n",
    "#w2v_model.train(True)\n",
    "\n",
    "# Define optimizer and loss\n",
    "#optimizer = torch.optim.Adam(w2v_model.parameters(), lr=0.01)\n",
    "#criterion = nn.CrossEntropyLoss()\n",
    "\n",
    "'''\n",
    "import tensorflow as tf\n",
    "from tensorflow import keras\n",
    "from tensorflow.keras import layers\n",
    "optimizer = keras.optimizers.Adam(learning_rate=0.01)\n",
    "criterion = tf.keras.losses.BinaryCrossentropy()\n",
    "'''\n",
    "\n",
    "#retreiving the target and context\n",
    "X_train, Y_train = get_target_context(sentences,w2v_model,vocab_one_hot,vocab_index,subsampling_probability)\n",
    "\n",
    "#training the dataset\n",
    "W, W1 = train(w2v_model,X_train,Y_train, len(v))\n",
    "\n",
    "## saving embedding weights\n",
    "\n",
    "out_v = io.open('vocab.tsv', 'w', encoding='utf-8')\n",
    "out_w = io.open('embedding_weight_W.tsv', 'w', encoding='utf-8')\n",
    "out_w1 = io.open('embedding_weight_W1.tsv', 'w', encoding='utf-8')\n",
    "\n",
    "for i in v:\n",
    "    out_v.write(i)\n",
    "out_w.close()\n",
    "\n",
    "for i in W:\n",
    "    out_w.write(','.join([str(w) for w in i]))\n",
    "out_w.close()\n",
    "\n",
    "for i in W1:\n",
    "    out_w1.write(','.join([str(w) for w in i]))\n",
    "out_w1.close()\n",
    "     \n",
    "try:\n",
    "  from google.colab import files\n",
    "  files.download('vocab.tsv')\n",
    "  files.download('embedding_weight_W.tsv')\n",
    "  files.download('embedding_weight_W1.tsv')\n",
    "except Exception:\n",
    "  pass\n"
   ]
  }
 ],
 "metadata": {
  "accelerator": "GPU",
  "colab": {
   "collapsed_sections": [],
   "name": "NNTI_final_project_task_1.ipynb",
   "provenance": []
  },
  "kernelspec": {
   "display_name": "Python 3",
   "language": "python",
   "name": "python3"
  },
  "language_info": {
   "codemirror_mode": {
    "name": "ipython",
    "version": 3
   },
   "file_extension": ".py",
   "mimetype": "text/x-python",
   "name": "python",
   "nbconvert_exporter": "python",
   "pygments_lexer": "ipython3",
   "version": "3.7.3"
  }
 },
 "nbformat": 4,
 "nbformat_minor": 1
}
